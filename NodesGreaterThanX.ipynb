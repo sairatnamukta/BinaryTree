{
  "nbformat": 4,
  "nbformat_minor": 0,
  "metadata": {
    "colab": {
      "provenance": [],
      "authorship_tag": "ABX9TyMACM+942HAcl6ck838yq2L",
      "include_colab_link": true
    },
    "kernelspec": {
      "name": "python3",
      "display_name": "Python 3"
    },
    "language_info": {
      "name": "python"
    }
  },
  "cells": [
    {
      "cell_type": "markdown",
      "metadata": {
        "id": "view-in-github",
        "colab_type": "text"
      },
      "source": [
        "<a href=\"https://colab.research.google.com/github/sairatnamukta/BinaryTree/blob/main/NodesGreaterThanX.ipynb\" target=\"_parent\"><img src=\"https://colab.research.google.com/assets/colab-badge.svg\" alt=\"Open In Colab\"/></a>"
      ]
    },
    {
      "cell_type": "code",
      "execution_count": null,
      "metadata": {
        "id": "tMSIzIJuDWTt"
      },
      "outputs": [],
      "source": [
        "from sys import stdin, setrecursionlimit\n",
        "import queue\n",
        "\n",
        "setrecursionlimit(10 ** 6)\n",
        "\n",
        "\n",
        "#Following is the structure used to represent the Binary Tree Node\n",
        "class BinaryTreeNode:\n",
        "    def __init__(self, data):\n",
        "        self.data = data\n",
        "        self.left = None\n",
        "        self.right = None\n",
        "\n",
        "\n",
        "\n",
        "def countNodesGreaterThanX(root, x) :\n",
        "    #Your code goes here\n",
        "    if root ==None:\n",
        "        return 0\n",
        "    c=0\n",
        "    if root.data>x:\n",
        "        c+=1\n",
        "    \n",
        "    l=countNodesGreaterThanX(root.left,x)\n",
        "    r=countNodesGreaterThanX(root.right,x)\n",
        "    return l+r+c\n",
        "#Taking level-order input using fast I/O method\n",
        "def takeInput():\n",
        "    rootData=int(input())\n",
        "    if rootData==-1:\n",
        "        return None\n",
        "    root=BinaryTreeNode(rootData)\n",
        "    leftTree=takeInput()\n",
        "    rightTree=takeInput()\n",
        "    root.left=leftTree\n",
        "    root.right=rightTree\n",
        "    return root\n",
        "# Main"
      ]
    },
    {
      "cell_type": "code",
      "source": [
        "root = takeInput()"
      ],
      "metadata": {
        "colab": {
          "base_uri": "https://localhost:8080/"
        },
        "id": "DgImLs9UEcnV",
        "outputId": "605fcdde-75de-409a-8c80-57ba2fe1b2a5"
      },
      "execution_count": 4,
      "outputs": [
        {
          "name": "stdout",
          "output_type": "stream",
          "text": [
            "1\n",
            "-1\n",
            "2\n",
            "3\n",
            "-1\n",
            "-1\n",
            "-1\n"
          ]
        }
      ]
    },
    {
      "cell_type": "code",
      "source": [
        "x=int(input(\"enter x value:\"))"
      ],
      "metadata": {
        "colab": {
          "base_uri": "https://localhost:8080/"
        },
        "id": "p3BOf69sEKS1",
        "outputId": "da93fe6f-7c06-4b66-99e1-bdbb00bca6ae"
      },
      "execution_count": 5,
      "outputs": [
        {
          "name": "stdout",
          "output_type": "stream",
          "text": [
            "enter x value:2\n"
          ]
        }
      ]
    },
    {
      "cell_type": "code",
      "source": [
        "count=countNodesGreaterThanX(root, x)\n",
        "print(count)"
      ],
      "metadata": {
        "colab": {
          "base_uri": "https://localhost:8080/"
        },
        "id": "G0aM_BcmEnGN",
        "outputId": "1fe9ba2c-55ff-4dc9-9526-59ba1d63928a"
      },
      "execution_count": 6,
      "outputs": [
        {
          "output_type": "stream",
          "name": "stdout",
          "text": [
            "1\n"
          ]
        }
      ]
    }
  ]
}