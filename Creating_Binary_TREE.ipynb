{
  "nbformat": 4,
  "nbformat_minor": 0,
  "metadata": {
    "colab": {
      "provenance": [],
      "authorship_tag": "ABX9TyOuwaOSehW5jwiuEp1m1L5A",
      "include_colab_link": true
    },
    "kernelspec": {
      "name": "python3",
      "display_name": "Python 3"
    },
    "language_info": {
      "name": "python"
    }
  },
  "cells": [
    {
      "cell_type": "markdown",
      "metadata": {
        "id": "view-in-github",
        "colab_type": "text"
      },
      "source": [
        "<a href=\"https://colab.research.google.com/github/sairatnamukta/BinaryTree/blob/main/Creating_Binary_TREE.ipynb\" target=\"_parent\"><img src=\"https://colab.research.google.com/assets/colab-badge.svg\" alt=\"Open In Colab\"/></a>"
      ]
    },
    {
      "cell_type": "code",
      "execution_count": 1,
      "metadata": {
        "id": "3wne-kaJrtqC"
      },
      "outputs": [],
      "source": [
        "class BinaryTreeNode :\n",
        "  def __init__(self,data):\n",
        "    self.data=data\n",
        "    self.left=None\n",
        "    self.right=None\n",
        "\n",
        "    "
      ]
    },
    {
      "cell_type": "markdown",
      "source": [
        "Here the nodes are uneven .They are actually leafs .No child and not interconnected."
      ],
      "metadata": {
        "id": "eIyCSN99sO0a"
      }
    },
    {
      "cell_type": "code",
      "source": [
        "n1=BinaryTreeNode(1)\n",
        "n2=BinaryTreeNode(3)\n",
        "n3=BinaryTreeNode(5)"
      ],
      "metadata": {
        "id": "yJ9-B8hesBfO"
      },
      "execution_count": 2,
      "outputs": []
    },
    {
      "cell_type": "markdown",
      "source": [
        "Here nodes n2,n3 are now connected to n1 hence forms a binary tree."
      ],
      "metadata": {
        "id": "x67EGVeWsfHR"
      }
    },
    {
      "cell_type": "code",
      "source": [
        "n1.left=n2\n",
        "n1.right=n3"
      ],
      "metadata": {
        "id": "F9f9iNkssNbd"
      },
      "execution_count": 3,
      "outputs": []
    }
  ]
}