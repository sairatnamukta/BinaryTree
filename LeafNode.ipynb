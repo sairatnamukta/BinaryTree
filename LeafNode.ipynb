{
  "nbformat": 4,
  "nbformat_minor": 0,
  "metadata": {
    "colab": {
      "provenance": [],
      "authorship_tag": "ABX9TyOjBvdN1eOuhLM+Ny1Dw0Ii",
      "include_colab_link": true
    },
    "kernelspec": {
      "name": "python3",
      "display_name": "Python 3"
    },
    "language_info": {
      "name": "python"
    }
  },
  "cells": [
    {
      "cell_type": "markdown",
      "metadata": {
        "id": "view-in-github",
        "colab_type": "text"
      },
      "source": [
        "<a href=\"https://colab.research.google.com/github/sairatnamukta/BinaryTree/blob/main/LeafNode.ipynb\" target=\"_parent\"><img src=\"https://colab.research.google.com/assets/colab-badge.svg\" alt=\"Open In Colab\"/></a>"
      ]
    },
    {
      "cell_type": "code",
      "execution_count": 1,
      "metadata": {
        "id": "2LBgSb5mSnKb"
      },
      "outputs": [],
      "source": [
        "class BinaryTreeNode:\n",
        "    def __init__(self, data):\n",
        "        self.data = data\n",
        "        self.left = None\n",
        "        self.right = None\n",
        "\n",
        "\n",
        "\n",
        "def leaf(root):\n",
        "  if root == None:\n",
        "    return 0\n",
        "  if root.left == None and root.right == None :\n",
        "    return 1\n",
        "\n",
        "  l=leaf(root.left)\n",
        "  r=leaf(root.right)\n",
        "  return l+r\n",
        "#Taking level-order input using fast I/O method\n",
        "def takeInput():\n",
        "    rootData=int(input())\n",
        "    if rootData==-1:\n",
        "        return None\n",
        "    root=BinaryTreeNode(rootData)\n",
        "    leftTree=takeInput()\n",
        "    rightTree=takeInput()\n",
        "    root.left=leftTree\n",
        "    root.right=rightTree\n",
        "    return root\n",
        "# Main"
      ]
    },
    {
      "cell_type": "code",
      "source": [
        "root=takeInput()"
      ],
      "metadata": {
        "colab": {
          "base_uri": "https://localhost:8080/"
        },
        "id": "wN1XxVQpTHAY",
        "outputId": "1ced1396-0eef-491c-8c16-5197b1f08b4c"
      },
      "execution_count": 2,
      "outputs": [
        {
          "name": "stdout",
          "output_type": "stream",
          "text": [
            "1\n",
            "2\n",
            "-1\n",
            "-1\n",
            "-1\n"
          ]
        }
      ]
    },
    {
      "cell_type": "code",
      "source": [
        "print(leaf(root))"
      ],
      "metadata": {
        "colab": {
          "base_uri": "https://localhost:8080/"
        },
        "id": "9ftmoSd9TLSN",
        "outputId": "975ea0ee-ecc5-4e18-b705-eb0f03ef7946"
      },
      "execution_count": 3,
      "outputs": [
        {
          "output_type": "stream",
          "name": "stdout",
          "text": [
            "1\n"
          ]
        }
      ]
    },
    {
      "cell_type": "code",
      "source": [],
      "metadata": {
        "id": "JJ9SByhYTRZm"
      },
      "execution_count": null,
      "outputs": []
    }
  ]
}