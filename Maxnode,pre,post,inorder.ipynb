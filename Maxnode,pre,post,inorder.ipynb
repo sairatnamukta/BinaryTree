{
  "nbformat": 4,
  "nbformat_minor": 0,
  "metadata": {
    "colab": {
      "provenance": [],
      "authorship_tag": "ABX9TyOnF7ekwYT3m5Rw4V1E/GBx",
      "include_colab_link": true
    },
    "kernelspec": {
      "name": "python3",
      "display_name": "Python 3"
    },
    "language_info": {
      "name": "python"
    }
  },
  "cells": [
    {
      "cell_type": "markdown",
      "metadata": {
        "id": "view-in-github",
        "colab_type": "text"
      },
      "source": [
        "<a href=\"https://colab.research.google.com/github/sairatnamukta/BinaryTree/blob/main/Maxnode%2Cpre%2Cpost%2Cinorder.ipynb\" target=\"_parent\"><img src=\"https://colab.research.google.com/assets/colab-badge.svg\" alt=\"Open In Colab\"/></a>"
      ]
    },
    {
      "cell_type": "code",
      "execution_count": 1,
      "metadata": {
        "id": "fPxJ8UOV98aG"
      },
      "outputs": [],
      "source": [
        "class BinaryTreeNode:\n",
        "    def __init__(self,data):\n",
        "        self.data=data;\n",
        "        self.left=None\n",
        "        self.right=None\n",
        "\n",
        "def printTree(root):\n",
        "    if root==None:\n",
        "        return\n",
        "    print(root.data)\n",
        "    printTree(root.left)\n",
        "    printTree(root.right)\n",
        "\n",
        "def printTreeDetailed(root):\n",
        "    if root==None:\n",
        "        return\n",
        "    print(root.data,end=\":\")\n",
        "    if root.left!=None:\n",
        "        print(\"L\",root.left.data,end=\",\")\n",
        "    if root.right!=None:\n",
        "        print(\"R\",root.right.data,end=\"\")\n",
        "    print()\n",
        "    printTreeDetailed(root.left)\n",
        "    printTreeDetailed(root.right)\n",
        "\n",
        "def treeInput():\n",
        "    rootData=int(input())\n",
        "    if rootData==-1:\n",
        "        return None\n",
        "    root=BinaryTreeNode(rootData)\n",
        "    leftTree=treeInput()\n",
        "    rightTree=treeInput()\n",
        "    root.left=leftTree\n",
        "    root.right=rightTree\n",
        "    return root"
      ]
    },
    {
      "cell_type": "code",
      "source": [
        "def largest(root):\n",
        "  if root==None:\n",
        "    return -float('inf')\n",
        "  l=largest(root.left)\n",
        "  r=largest(root.right)\n",
        "  return max(root.data,l,r)"
      ],
      "metadata": {
        "id": "gByPaOLD-MkT"
      },
      "execution_count": 2,
      "outputs": []
    },
    {
      "cell_type": "code",
      "source": [
        "root=treeInput()\n",
        "printTreeDetailed(root)\n",
        "largest(root)"
      ],
      "metadata": {
        "colab": {
          "base_uri": "https://localhost:8080/"
        },
        "id": "OVBvgHdF-fsI",
        "outputId": "9323fe01-2ae1-4af9-e9cc-928e252d08f9"
      },
      "execution_count": 5,
      "outputs": [
        {
          "output_type": "stream",
          "name": "stdout",
          "text": [
            "11\n",
            "22\n",
            "-1\n",
            "-1\n",
            "33\n",
            "44\n",
            "-1\n",
            "-1\n",
            "-1\n",
            "11:L 22,R 33\n",
            "22:\n",
            "33:L 44,\n",
            "44:\n"
          ]
        },
        {
          "output_type": "execute_result",
          "data": {
            "text/plain": [
              "44"
            ]
          },
          "metadata": {},
          "execution_count": 5
        }
      ]
    },
    {
      "cell_type": "code",
      "source": [
        "def post(root):\n",
        "  if root==None:\n",
        "    return None\n",
        "  post(root.left)\n",
        "  post(root.right)\n",
        "  print(root.data)\n",
        "\n",
        "def pre(root):\n",
        "  if root==None:\n",
        "    return None\n",
        "  print(root.data)\n",
        "  post(root.left)\n",
        "  post(root.right)\n",
        "\n",
        "def inorder(root):\n",
        "  if root==None:\n",
        "    return None\n",
        "  inorder(root.left)\n",
        "  print(root.data)\n",
        "  inorder(root.right)"
      ],
      "metadata": {
        "id": "SkLESsPO_Chu"
      },
      "execution_count": 8,
      "outputs": []
    },
    {
      "cell_type": "code",
      "source": [
        "post(root)\n",
        "pre(root)\n",
        "inorder(root)"
      ],
      "metadata": {
        "colab": {
          "base_uri": "https://localhost:8080/"
        },
        "id": "k-S7Ig65_OhN",
        "outputId": "20b1a4fc-2b44-4850-d809-e024e602f2c0"
      },
      "execution_count": 9,
      "outputs": [
        {
          "output_type": "stream",
          "name": "stdout",
          "text": [
            "22\n",
            "44\n",
            "33\n",
            "11\n",
            "11\n",
            "22\n",
            "44\n",
            "33\n",
            "22\n",
            "11\n",
            "44\n",
            "33\n"
          ]
        }
      ]
    },
    {
      "cell_type": "code",
      "source": [],
      "metadata": {
        "id": "9GjaBpnF_Qpf"
      },
      "execution_count": null,
      "outputs": []
    }
  ]
}