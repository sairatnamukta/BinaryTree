{
  "nbformat": 4,
  "nbformat_minor": 0,
  "metadata": {
    "colab": {
      "provenance": [],
      "authorship_tag": "ABX9TyPFZLN/p0vIjCQ1JgOXxbky",
      "include_colab_link": true
    },
    "kernelspec": {
      "name": "python3",
      "display_name": "Python 3"
    },
    "language_info": {
      "name": "python"
    }
  },
  "cells": [
    {
      "cell_type": "markdown",
      "metadata": {
        "id": "view-in-github",
        "colab_type": "text"
      },
      "source": [
        "<a href=\"https://colab.research.google.com/github/sairatnamukta/BinaryTree/blob/main/BinaryTreeInput.ipynb\" target=\"_parent\"><img src=\"https://colab.research.google.com/assets/colab-badge.svg\" alt=\"Open In Colab\"/></a>"
      ]
    },
    {
      "cell_type": "code",
      "execution_count": 1,
      "metadata": {
        "id": "OWVr6-JMGnOx"
      },
      "outputs": [],
      "source": [
        "class BinaryTreeNode:\n",
        "    def __init__(self,data):\n",
        "        self.data=data;\n",
        "        self.left=None\n",
        "        self.right=None"
      ]
    },
    {
      "cell_type": "code",
      "source": [
        "def printTreeDetailed(root):\n",
        "    if root==None:\n",
        "        return\n",
        "    print(root.data,end=\":\")\n",
        "    if root.left!=None:\n",
        "        print(\"L\",root.left.data,end=\",\")\n",
        "    if root.right!=None:\n",
        "        print(\"R\",root.right.data,end=\"\")\n",
        "    print()\n",
        "    printTreeDetailed(root.left)\n",
        "    printTreeDetailed(root.right)\n"
      ],
      "metadata": {
        "id": "0zu6ZVA5Gy1R"
      },
      "execution_count": 2,
      "outputs": []
    },
    {
      "cell_type": "code",
      "source": [
        "def treeInput():\n",
        "    rootData=int(input())\n",
        "    if rootData==-1:\n",
        "        return None\n",
        "    root=BinaryTreeNode(rootData)\n",
        "    leftTree=treeInput()\n",
        "    rightTree=treeInput()\n",
        "    root.left=leftTree\n",
        "    root.right=rightTree\n",
        "    return root\n"
      ],
      "metadata": {
        "id": "QJuxDFSzGy9h"
      },
      "execution_count": 3,
      "outputs": []
    },
    {
      "cell_type": "code",
      "source": [
        "root=treeInput()\n",
        "printTreeDetailed(root)"
      ],
      "metadata": {
        "colab": {
          "base_uri": "https://localhost:8080/"
        },
        "id": "VAPnAOghG5Zq",
        "outputId": "d5859346-cbe3-4fc1-cd72-e5b3d47ce7e9"
      },
      "execution_count": 4,
      "outputs": [
        {
          "output_type": "stream",
          "name": "stdout",
          "text": [
            "1\n",
            "2\n",
            "-1\n",
            "-1\n",
            "3\n",
            "-1\n",
            "-1\n",
            "1:L 2,R 3\n",
            "2:\n",
            "3:\n"
          ]
        }
      ]
    },
    {
      "cell_type": "markdown",
      "source": [
        "give input as root left child1 left child2 if no child is there for child2 then -1 then right child for child2 then right child for child 1.....see notes for clear picture"
      ],
      "metadata": {
        "id": "o9TddsqsKBkw"
      }
    },
    {
      "cell_type": "code",
      "source": [
        "root=treeInput()\n",
        "printTreeDetailed(root)\n"
      ],
      "metadata": {
        "colab": {
          "base_uri": "https://localhost:8080/"
        },
        "id": "30pFOXiCHBQL",
        "outputId": "92cf9bb7-fe06-4d79-c5a0-a1c4d9cc6f25"
      },
      "execution_count": 7,
      "outputs": [
        {
          "output_type": "stream",
          "name": "stdout",
          "text": [
            "2\n",
            "7\n",
            "2\n",
            "-1\n",
            "-1\n",
            "6\n",
            "5\n",
            "-1\n",
            "-1\n",
            "11\n",
            "-1\n",
            "-1\n",
            "5\n",
            "-1\n",
            "9\n",
            "4\n",
            "-1\n",
            "-1\n",
            "-1\n",
            "2:L 7,R 5\n",
            "7:L 2,R 6\n",
            "2:\n",
            "6:L 5,R 11\n",
            "5:\n",
            "11:\n",
            "5:R 9\n",
            "9:L 4,\n",
            "4:\n"
          ]
        }
      ]
    },
    {
      "cell_type": "code",
      "source": [],
      "metadata": {
        "id": "mmBVwNgWIjv1"
      },
      "execution_count": null,
      "outputs": []
    }
  ]
}