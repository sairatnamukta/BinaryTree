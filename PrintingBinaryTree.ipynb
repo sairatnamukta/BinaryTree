{
  "nbformat": 4,
  "nbformat_minor": 0,
  "metadata": {
    "colab": {
      "provenance": [],
      "authorship_tag": "ABX9TyOgy0UEHQHw8G7ow0GOn87t",
      "include_colab_link": true
    },
    "kernelspec": {
      "name": "python3",
      "display_name": "Python 3"
    },
    "language_info": {
      "name": "python"
    }
  },
  "cells": [
    {
      "cell_type": "markdown",
      "metadata": {
        "id": "view-in-github",
        "colab_type": "text"
      },
      "source": [
        "<a href=\"https://colab.research.google.com/github/sairatnamukta/BinaryTree/blob/main/PrintingBinaryTree.ipynb\" target=\"_parent\"><img src=\"https://colab.research.google.com/assets/colab-badge.svg\" alt=\"Open In Colab\"/></a>"
      ]
    },
    {
      "cell_type": "code",
      "execution_count": 1,
      "metadata": {
        "id": "NHkffn-TyY_c"
      },
      "outputs": [],
      "source": [
        "class BTN :\n",
        "  def __init__(self,data):\n",
        "    self.data=data\n",
        "    self.left=None\n",
        "    self.right=None\n",
        "\n",
        "    "
      ]
    },
    {
      "cell_type": "code",
      "source": [
        "n1=BTN(1)\n",
        "n2=BTN(3)\n",
        "n3=BTN(5)"
      ],
      "metadata": {
        "id": "p6yZs5lQzZK4"
      },
      "execution_count": 2,
      "outputs": []
    },
    {
      "cell_type": "code",
      "source": [
        "n1.left=n2\n",
        "n1.right=n3"
      ],
      "metadata": {
        "id": "2-Cb8vfczZN3"
      },
      "execution_count": 3,
      "outputs": []
    },
    {
      "cell_type": "code",
      "source": [
        "def printt(root):\n",
        "  if root== None :\n",
        "    return\n",
        "  print(root.data)\n",
        "  printt(root.left)\n",
        "  printt(root.right)"
      ],
      "metadata": {
        "id": "Vo58fYpT1irh"
      },
      "execution_count": 15,
      "outputs": []
    },
    {
      "cell_type": "code",
      "source": [
        "printt(n1)"
      ],
      "metadata": {
        "colab": {
          "base_uri": "https://localhost:8080/"
        },
        "id": "4S0S6Bga10lX",
        "outputId": "2b98fa70-1be7-40eb-f518-9ee9bd115366"
      },
      "execution_count": 16,
      "outputs": [
        {
          "output_type": "stream",
          "name": "stdout",
          "text": [
            "1\n",
            "3\n",
            "5\n"
          ]
        }
      ]
    },
    {
      "cell_type": "code",
      "source": [
        "def printree(root):\n",
        "  if root==None:\n",
        "    return\n",
        "  print(root.data,end=\":\")\n",
        "  if root.left !=None:\n",
        "    print(\"l\",root.left.data,end=\",\")\n",
        "  if root.right != None :\n",
        "    print(\"R\",root.right.data,end=\" \")\n",
        "  print()\n",
        "  printree(root.left)\n",
        "  printree(root.right)\n"
      ],
      "metadata": {
        "id": "5W_8qL5dzZQm"
      },
      "execution_count": 12,
      "outputs": []
    },
    {
      "cell_type": "code",
      "source": [
        "printree(n1)"
      ],
      "metadata": {
        "colab": {
          "base_uri": "https://localhost:8080/"
        },
        "id": "b1mNzYXnzZUG",
        "outputId": "896fc3f4-1bda-4d1f-f8b1-d93801d9250e"
      },
      "execution_count": 13,
      "outputs": [
        {
          "output_type": "stream",
          "name": "stdout",
          "text": [
            "1:l 3,R 5 \n",
            "3:\n",
            "5:\n"
          ]
        }
      ]
    },
    {
      "cell_type": "code",
      "source": [],
      "metadata": {
        "id": "Zq9FsQbv0amx"
      },
      "execution_count": null,
      "outputs": []
    }
  ]
}