{
  "nbformat": 4,
  "nbformat_minor": 0,
  "metadata": {
    "colab": {
      "provenance": [],
      "authorship_tag": "ABX9TyOywCpO8Bfptt0VytiRpxam",
      "include_colab_link": true
    },
    "kernelspec": {
      "name": "python3",
      "display_name": "Python 3"
    },
    "language_info": {
      "name": "python"
    }
  },
  "cells": [
    {
      "cell_type": "markdown",
      "metadata": {
        "id": "view-in-github",
        "colab_type": "text"
      },
      "source": [
        "<a href=\"https://colab.research.google.com/github/sairatnamukta/BinaryTree/blob/main/HeightofTree.ipynb\" target=\"_parent\"><img src=\"https://colab.research.google.com/assets/colab-badge.svg\" alt=\"Open In Colab\"/></a>"
      ]
    },
    {
      "cell_type": "code",
      "execution_count": 1,
      "metadata": {
        "id": "I6TSVd70E284"
      },
      "outputs": [],
      "source": [
        "class BinaryTreeNode:\n",
        "    def __init__(self, data):\n",
        "        self.data = data\n",
        "        self.left = None\n",
        "        self.right = None\n",
        "\n",
        "\n",
        "\n",
        "\n",
        "def height(root) :\n",
        "    #Your code goes here\n",
        "    if root == None:\n",
        "        return 0\n",
        "    l=height(root.left)\n",
        "    r=height(root.right)\n",
        "    return 1+max(l,r)\n",
        "#Taking level-order input using fast I/O method\n",
        "def takeInput():\n",
        "    rootData=int(input())\n",
        "    if rootData==-1:\n",
        "        return None\n",
        "    root=BinaryTreeNode(rootData)\n",
        "    leftTree=takeInput()\n",
        "    rightTree=takeInput()\n",
        "    root.left=leftTree\n",
        "    root.right=rightTree\n",
        "    return root\n",
        "# Main"
      ]
    },
    {
      "cell_type": "code",
      "source": [
        "root = takeInput()"
      ],
      "metadata": {
        "colab": {
          "base_uri": "https://localhost:8080/"
        },
        "id": "WxeBGD-eR6yJ",
        "outputId": "c6f68f9d-c22d-40b3-9975-84d5c21f2055"
      },
      "execution_count": 2,
      "outputs": [
        {
          "name": "stdout",
          "output_type": "stream",
          "text": [
            "1\n",
            "2\n",
            "-1\n",
            "3\n",
            "-1\n",
            "-1\n",
            "4\n",
            "5\n",
            "-1\n",
            "-1\n",
            "6\n",
            "-1\n",
            "-1\n"
          ]
        }
      ]
    },
    {
      "cell_type": "code",
      "source": [
        "print(height(root))"
      ],
      "metadata": {
        "colab": {
          "base_uri": "https://localhost:8080/"
        },
        "id": "p28O-2hTR-bE",
        "outputId": "5587059d-4ccf-4663-9ef0-9a963505d4dd"
      },
      "execution_count": 3,
      "outputs": [
        {
          "output_type": "stream",
          "name": "stdout",
          "text": [
            "3\n"
          ]
        }
      ]
    },
    {
      "cell_type": "code",
      "source": [
        "The maximum and minimum number of nodes in a binary tree of height 6 are\n",
        "A tree with zero node has height 0.\n",
        "A tree with one node has height 1.\n",
        "\n",
        "Answer :Maximum : ( 2 ** (h) ) -1 ,Minimum : h"
      ],
      "metadata": {
        "id": "ZSAL6W10SNGA"
      },
      "execution_count": null,
      "outputs": []
    }
  ]
}