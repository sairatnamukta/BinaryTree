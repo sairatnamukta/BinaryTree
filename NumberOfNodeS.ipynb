{
  "nbformat": 4,
  "nbformat_minor": 0,
  "metadata": {
    "colab": {
      "provenance": [],
      "authorship_tag": "ABX9TyM61MtUKBY7wgO7PmE0F+a8",
      "include_colab_link": true
    },
    "kernelspec": {
      "name": "python3",
      "display_name": "Python 3"
    },
    "language_info": {
      "name": "python"
    }
  },
  "cells": [
    {
      "cell_type": "markdown",
      "metadata": {
        "id": "view-in-github",
        "colab_type": "text"
      },
      "source": [
        "<a href=\"https://colab.research.google.com/github/sairatnamukta/BinaryTree/blob/main/NumberOfNodeS.ipynb\" target=\"_parent\"><img src=\"https://colab.research.google.com/assets/colab-badge.svg\" alt=\"Open In Colab\"/></a>"
      ]
    },
    {
      "cell_type": "code",
      "execution_count": 2,
      "metadata": {
        "id": "q6omt4_D8SoS"
      },
      "outputs": [],
      "source": [
        "class BinaryTreeNode :\n",
        "  def __init__(self,data):\n",
        "    self.data=data\n",
        "    self.right=None\n",
        "    self.left=None\n"
      ]
    },
    {
      "cell_type": "code",
      "source": [
        "def PrintTree(root):\n",
        "    if root==None:\n",
        "      return\n",
        "    print(root.data)\n",
        "    PrintTree(root.left)\n",
        "    PrintTree(root.right)\n",
        "    \n",
        "\n",
        "\n"
      ],
      "metadata": {
        "id": "5FCSK7oL8yok"
      },
      "execution_count": 3,
      "outputs": []
    },
    {
      "cell_type": "code",
      "source": [
        "def PrintTreeDetail(root):\n",
        "    if root==None:\n",
        "      return\n",
        "    print(root.data,end=\" \")\n",
        "    if root.left != None:\n",
        "        print(\"L\",root.left.data,end=\":\")\n",
        "    if root.right != None:\n",
        "        print(\"R\",root.right.data,end=\" \")\n",
        "    print()\n",
        "    PrintTreeDetail(root.left)\n",
        "    PrintTreeDetail(root.right)"
      ],
      "metadata": {
        "id": "K7fHeCHh9nXQ"
      },
      "execution_count": 9,
      "outputs": []
    },
    {
      "cell_type": "code",
      "source": [
        "n1=BinaryTreeNode(1)\n",
        "n2=BinaryTreeNode(5)\n",
        "n3=BinaryTreeNode(7)\n",
        "n1.left=n2\n",
        "n1.right=n3"
      ],
      "metadata": {
        "id": "NH5yhPNM-eI8"
      },
      "execution_count": 7,
      "outputs": []
    },
    {
      "cell_type": "code",
      "source": [
        "PrintTreeDetail(n1)"
      ],
      "metadata": {
        "colab": {
          "base_uri": "https://localhost:8080/"
        },
        "id": "Z4vv4T49_nNm",
        "outputId": "a584b286-d847-40b2-9074-8dcef3dfe4ff"
      },
      "execution_count": 10,
      "outputs": [
        {
          "output_type": "stream",
          "name": "stdout",
          "text": [
            "1 L 5:R 7 \n",
            "5 \n",
            "7 \n"
          ]
        }
      ]
    },
    {
      "cell_type": "code",
      "source": [
        "def treeinput():\n",
        "  rootData=int(input())\n",
        "  if rootData == -1:\n",
        "    return None\n",
        "  root=BinaryTreeNode(rootData)\n",
        "  lefttree=treeinput()\n",
        "  righttree=treeinput()\n",
        "  root.left=lefttree\n",
        "  root.right=righttree\n",
        "  return root"
      ],
      "metadata": {
        "id": "7Kk7-pbV_roQ"
      },
      "execution_count": 13,
      "outputs": []
    },
    {
      "cell_type": "code",
      "source": [
        "def NumNodes(root):\n",
        "  if root==None:\n",
        "    return 0\n",
        "  left=NumNodes(root.left)\n",
        "  right=NumNodes(root.right)\n",
        "  return right+left+1"
      ],
      "metadata": {
        "id": "SsEK9Nb5CEf6"
      },
      "execution_count": 18,
      "outputs": []
    },
    {
      "cell_type": "code",
      "source": [
        "n=treeinput()\n",
        "PrintTreeDetail(n)\n"
      ],
      "metadata": {
        "colab": {
          "base_uri": "https://localhost:8080/"
        },
        "id": "p0u0TtzMAyXN",
        "outputId": "865ebe37-9a2f-4b1f-8767-a3561246e4f4"
      },
      "execution_count": 22,
      "outputs": [
        {
          "output_type": "stream",
          "name": "stdout",
          "text": [
            "1\n",
            "2\n",
            "-1\n",
            "-1\n",
            "3\n",
            "4\n",
            "6\n",
            "-1\n",
            "-1\n",
            "-1\n",
            "5\n",
            "-1\n",
            "-1\n",
            "1 L 2:R 3 \n",
            "2 \n",
            "3 L 4:R 5 \n",
            "4 L 6:\n",
            "6 \n",
            "5 \n"
          ]
        }
      ]
    },
    {
      "cell_type": "code",
      "source": [
        "NumNodes(n)"
      ],
      "metadata": {
        "colab": {
          "base_uri": "https://localhost:8080/"
        },
        "id": "39r2uS52BuHi",
        "outputId": "a8656db1-70a1-40e2-95eb-3d3c3a93faff"
      },
      "execution_count": 23,
      "outputs": [
        {
          "output_type": "execute_result",
          "data": {
            "text/plain": [
              "6"
            ]
          },
          "metadata": {},
          "execution_count": 23
        }
      ]
    },
    {
      "cell_type": "code",
      "source": [],
      "metadata": {
        "id": "TW7Noj75C-0g"
      },
      "execution_count": null,
      "outputs": []
    }
  ]
}